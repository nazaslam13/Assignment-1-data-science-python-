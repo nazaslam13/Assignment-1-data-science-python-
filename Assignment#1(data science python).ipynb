{
 "cells": [
  {
   "cell_type": "code",
   "execution_count": 1,
   "id": "b9dbbb6e",
   "metadata": {},
   "outputs": [
    {
     "name": "stdout",
     "output_type": "stream",
     "text": [
      "Twinkle, twinkle, little star,\n",
      "\t How I wonder what you are!\n",
      "\t\t Up above the world so high,\n",
      "\t\t Like a diamond in the sky.\n",
      "Twinkle, twinkle, little star,\n",
      "\t How I wonder what you are!\n"
     ]
    }
   ],
   "source": [
    "#1. Write a Python program to print the following string in a specific format (see the\n",
    "#output).\n",
    "\n",
    "#Twinkle, twinkle, little star,\n",
    "         #How I wonder what you are!\n",
    "                 #Up above the world so high,\n",
    "                 #Like a diamond in the sky.\n",
    "#Twinkle, twinkle, little star,\n",
    "         #How I wonder what you are #\n",
    "\n",
    "print(\"Twinkle, twinkle, little star,\\n\\t How I wonder what you are!\\n\\t\\t Up above the world so high,\\n\\t\\t Like a diamond in the sky.\\nTwinkle, twinkle, little star,\\n\\t How I wonder what you are!\")"
   ]
  },
  {
   "cell_type": "code",
   "execution_count": 2,
   "id": "44906425",
   "metadata": {},
   "outputs": [
    {
     "name": "stdout",
     "output_type": "stream",
     "text": [
      "Python Version\n",
      "3.8.8 (default, Apr 13 2021, 15:08:07) [MSC v.1916 32 bit (Intel)]\n",
      "Version info\n",
      "sys.version_info(major=3, minor=8, micro=8, releaselevel='final', serial=0)\n"
     ]
    }
   ],
   "source": [
    "#2. Write a Python program to get the Python version you are using#\n",
    "\n",
    "import sys\n",
    "print(\"Python Version\")\n",
    "print(sys.version)\n",
    "print(\"Version info\")\n",
    "print(sys.version_info)"
   ]
  },
  {
   "cell_type": "code",
   "execution_count": 3,
   "id": "ddda440a",
   "metadata": {},
   "outputs": [
    {
     "name": "stdout",
     "output_type": "stream",
     "text": [
      "Current Date and Time:\n",
      "2021-12-29  14: 50: 49\n"
     ]
    }
   ],
   "source": [
    "#3. Write a Python program to display the current date and time.#\n",
    "\n",
    "import datetime\n",
    "now = datetime.datetime.now()\n",
    "print(\"Current Date and Time:\")\n",
    "print(now.strftime(\"%Y-%m-%d  %H: %M: %S\"))"
   ]
  },
  {
   "cell_type": "code",
   "execution_count": 4,
   "id": "47ed4689",
   "metadata": {},
   "outputs": [
    {
     "name": "stdout",
     "output_type": "stream",
     "text": [
      "input the radius of the circle:1.1\n",
      "The area of the circle with radius1.1is:3.8013271108436504\n"
     ]
    }
   ],
   "source": [
    "#4. Write a Python program which accepts the radius of a circle from the user and compute\n",
    "#the area#\n",
    "\n",
    "from math import pi\n",
    "r = float(input(\"input the radius of the circle:\"))\n",
    "print(\"The area of the circle with radius\" + str(r) + \"is:\" + str(pi * r**2))"
   ]
  },
  {
   "cell_type": "code",
   "execution_count": 5,
   "id": "715048aa",
   "metadata": {},
   "outputs": [
    {
     "name": "stdout",
     "output_type": "stream",
     "text": [
      "input Your First Name:Naz\n",
      "input Your Last Name:Aslam\n",
      "Hello  Aslam Naz\n"
     ]
    }
   ],
   "source": [
    "#5. Write a Python program which accepts the user's first and last name and print them in\n",
    "#reverse order with a space between them.#\n",
    "\n",
    "firstname = input(\"input Your First Name:\")\n",
    "lastname = input(\"input Your Last Name:\")\n",
    "print(\"Hello  \" +lastname + \" \" +firstname)"
   ]
  },
  {
   "cell_type": "code",
   "execution_count": 6,
   "id": "3a3cfd3c",
   "metadata": {},
   "outputs": [
    {
     "name": "stdout",
     "output_type": "stream",
     "text": [
      "Enter First Number:12\n",
      "Enter Second Number:33\n",
      "Sum: 45\n"
     ]
    }
   ],
   "source": [
    "#6. Write a python program which takes two inputs from user and print them addition#\n",
    "\n",
    "a = (input(\"Enter First Number:\"))\n",
    "b = (input(\"Enter Second Number:\"))\n",
    "\n",
    "sum = int(a) + int(b)\n",
    "\n",
    "print(\"Sum:\", sum)"
   ]
  },
  {
   "cell_type": "code",
   "execution_count": null,
   "id": "ab7430d8",
   "metadata": {},
   "outputs": [],
   "source": []
  }
 ],
 "metadata": {
  "kernelspec": {
   "display_name": "Python 3",
   "language": "python",
   "name": "python3"
  },
  "language_info": {
   "codemirror_mode": {
    "name": "ipython",
    "version": 3
   },
   "file_extension": ".py",
   "mimetype": "text/x-python",
   "name": "python",
   "nbconvert_exporter": "python",
   "pygments_lexer": "ipython3",
   "version": "3.8.8"
  }
 },
 "nbformat": 4,
 "nbformat_minor": 5
}
